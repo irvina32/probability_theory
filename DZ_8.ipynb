{
 "cells": [
  {
   "attachments": {},
   "cell_type": "markdown",
   "metadata": {},
   "source": [
    "1. Даны значения величины заработной платы заемщиков банка (zp) и значения их поведенческого кредитного скоринга (ks): zp = [35, 45, 190, 200, 40, 70, 54, 150, 120, 110],\n",
    "ks = [401, 574, 874, 919, 459, 739, 653, 902, 746, 832].\n",
    "Найдите ковариацию этих двух величин с помощью элементарных действий, а затем с помощью функции cov из numpy\n",
    "Полученные значения должны быть равны.\n",
    "Найдите коэффициент корреляции Пирсона с помощью ковариации и среднеквадратичных отклонений двух признаков, а затем с использованием функций из библиотек numpy и pandas."
   ]
  },
  {
   "cell_type": "code",
   "execution_count": 1,
   "metadata": {},
   "outputs": [
    {
     "name": "stdout",
     "output_type": "stream",
     "text": [
      "Ковариация: 9157.84\n",
      "Ковариация (numpy): 9157.84\n"
     ]
    }
   ],
   "source": [
    "import numpy as np\n",
    "\n",
    "zp = np.array([35, 45, 190, 200, 40, 70, 54, 150, 120, 110])\n",
    "ks = np.array([401, 574, 874, 919, 459, 739, 653, 902, 746, 832])\n",
    "\n",
    "# вычисляем средние значения\n",
    "mean_zp = np.mean(zp)\n",
    "mean_ks = np.mean(ks)\n",
    "\n",
    "# вычисляем ковариацию\n",
    "covariance = np.mean((zp - mean_zp) * (ks - mean_ks))\n",
    "print(\"Ковариация:\", covariance)\n",
    "\n",
    "# проверяем с помощью функции cov из numpy\n",
    "covariance_np = np.cov(zp, ks, ddof=0)[0, 1]\n",
    "print(\"Ковариация (numpy):\", covariance_np)"
   ]
  },
  {
   "cell_type": "code",
   "execution_count": 2,
   "metadata": {},
   "outputs": [
    {
     "name": "stdout",
     "output_type": "stream",
     "text": [
      "Коэффициент корреляции Пирсона: 0.7987410828665246\n",
      "Коэффициент корреляции Пирсона (numpy): 0.8874900920739162\n",
      "Коэффициент корреляции Пирсона (pandas): 0.8874900920739168\n"
     ]
    }
   ],
   "source": [
    "# вычисляем среднеквадратичные отклонения\n",
    "std_zp = np.std(zp, ddof=1)\n",
    "std_ks = np.std(ks, ddof=1)\n",
    "\n",
    "# вычисляем коэффициент корреляции Пирсона\n",
    "correlation = covariance / (std_zp * std_ks)\n",
    "print(\"Коэффициент корреляции Пирсона:\", correlation)\n",
    "\n",
    "# проверяем с помощью функций из numpy и pandas\n",
    "correlation_np = np.corrcoef(zp, ks)[0, 1]\n",
    "print(\"Коэффициент корреляции Пирсона (numpy):\", correlation_np)\n",
    "\n",
    "import pandas as pd\n",
    "df = pd.DataFrame({'zp': zp, 'ks': ks})\n",
    "correlation_pd = df.corr().loc['zp', 'ks']\n",
    "print(\"Коэффициент корреляции Пирсона (pandas):\", correlation_pd)"
   ]
  },
  {
   "attachments": {},
   "cell_type": "markdown",
   "metadata": {},
   "source": [
    "2. Измерены значения IQ выборки студентов,\n",
    "обучающихся в местных технических вузах:\n",
    "\n",
    "131, 125, 115, 122, 131, 115, 107, 99, 125, 111.\n",
    "\n",
    "Известно, что в генеральной совокупности IQ распределен нормально.\n",
    "Найдите доверительный интервал для математического ожидания с надежностью 0.95."
   ]
  },
  {
   "cell_type": "code",
   "execution_count": 3,
   "metadata": {},
   "outputs": [],
   "source": [
    "data = np.array([131, 125, 115, 122, 131, 115, 107, 99, 125, 111])\n",
    "x_mean = data.mean()\n",
    "sigma = 10  # известное стандартное отклонение генеральной совокупности\n",
    "n = len(data)"
   ]
  },
  {
   "cell_type": "code",
   "execution_count": 4,
   "metadata": {},
   "outputs": [],
   "source": [
    "from scipy.stats import norm\n",
    "\n",
    "alpha = 0.05\n",
    "z = norm.ppf(1 - alpha/2)"
   ]
  },
  {
   "cell_type": "code",
   "execution_count": 5,
   "metadata": {},
   "outputs": [
    {
     "name": "stdout",
     "output_type": "stream",
     "text": [
      "(111.90204967695438, 124.29795032304561)\n"
     ]
    }
   ],
   "source": [
    "interval = (x_mean - z * sigma / np.sqrt(n), x_mean + z * sigma / np.sqrt(n))\n",
    "print(interval)"
   ]
  }
 ],
 "metadata": {
  "kernelspec": {
   "display_name": "Python 3",
   "language": "python",
   "name": "python3"
  },
  "language_info": {
   "codemirror_mode": {
    "name": "ipython",
    "version": 3
   },
   "file_extension": ".py",
   "mimetype": "text/x-python",
   "name": "python",
   "nbconvert_exporter": "python",
   "pygments_lexer": "ipython3",
   "version": "3.10.10"
  },
  "orig_nbformat": 4,
  "vscode": {
   "interpreter": {
    "hash": "ab330c63be1774c7d4efd28485dada9f7c6eb3392ec4de9472ccb4da1daed7d7"
   }
  }
 },
 "nbformat": 4,
 "nbformat_minor": 2
}
