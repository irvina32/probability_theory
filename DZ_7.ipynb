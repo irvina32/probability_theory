{
 "cells": [
  {
   "attachments": {},
   "cell_type": "markdown",
   "metadata": {},
   "source": [
    "1.  Даны две  независимые выборки. Не соблюдается условие нормальности\n",
    "\n",
    "x1  380,420, 290\n",
    "\n",
    "y1 140,360,200,900\n",
    "Сделайте вывод по результатам, полученным с помощью функции"
   ]
  },
  {
   "cell_type": "code",
   "execution_count": 1,
   "metadata": {},
   "outputs": [
    {
     "data": {
      "text/plain": [
       "MannwhitneyuResult(statistic=8.0, pvalue=0.6285714285714286)"
      ]
     },
     "execution_count": 1,
     "metadata": {},
     "output_type": "execute_result"
    }
   ],
   "source": [
    "import numpy as np \n",
    "import scipy.stats as stats \n",
    "\n",
    "x1 = np.array([380,420, 290])\n",
    "y1 = np.array([140, 360, 200, 900])\n",
    "\n",
    "stats.mannwhitneyu(x1, y1)"
   ]
  },
  {
   "attachments": {},
   "cell_type": "markdown",
   "metadata": {},
   "source": [
    "результат pvalue больше чем значение а, значит верна нулевая гипотеза."
   ]
  },
  {
   "attachments": {},
   "cell_type": "markdown",
   "metadata": {},
   "source": [
    "2. Исследовалось влияние препарата на уровень давления пациентов. Сначала измерялось давление до приема препарата, потом через 10 минут и через 30 минут. Есть ли статистически значимые различия?\n",
    "\n",
    "1е измерение до приема препарата: 150, 160, 165, 145, 155\n",
    "\n",
    "2е измерение через 10 минут: 140, 155, 150,  130, 135\n",
    "\n",
    "3е измерение через 30 минут: 130, 130, 120, 130, 125"
   ]
  },
  {
   "cell_type": "code",
   "execution_count": 2,
   "metadata": {},
   "outputs": [
    {
     "data": {
      "text/plain": [
       "FriedmanchisquareResult(statistic=9.578947368421062, pvalue=0.00831683351100441)"
      ]
     },
     "execution_count": 2,
     "metadata": {},
     "output_type": "execute_result"
    }
   ],
   "source": [
    "a = ([150, 160, 165, 145, 155])\n",
    "b = ([140, 155, 150, 130, 135])\n",
    "c = ([130, 130, 120, 130, 125])\n",
    "\n",
    "stats.friedmanchisquare(a, b, c)"
   ]
  },
  {
   "attachments": {},
   "cell_type": "markdown",
   "metadata": {},
   "source": [
    "результат pvalue меньше чем значение альфа. Значит статистически значимые различия есть."
   ]
  },
  {
   "attachments": {},
   "cell_type": "markdown",
   "metadata": {},
   "source": [
    "3.  Сравните 1 и 2 е измерения, предполагая, что 3го измерения через 30 минут не было."
   ]
  },
  {
   "cell_type": "code",
   "execution_count": 3,
   "metadata": {},
   "outputs": [
    {
     "data": {
      "text/plain": [
       "WilcoxonResult(statistic=0.0, pvalue=0.0625)"
      ]
     },
     "execution_count": 3,
     "metadata": {},
     "output_type": "execute_result"
    }
   ],
   "source": [
    "import numpy as np \n",
    "import scipy.stats as stats \n",
    "\n",
    "a = np.array([150, 160, 165, 145, 155])\n",
    "b = np.array([140, 155, 150, 130, 135])\n",
    "\n",
    "stats.wilcoxon(a, b)"
   ]
  },
  {
   "attachments": {},
   "cell_type": "markdown",
   "metadata": {},
   "source": [
    "результат pvalue больше чем значение альфа. Значит статистически значимых различий нет."
   ]
  },
  {
   "attachments": {},
   "cell_type": "markdown",
   "metadata": {},
   "source": [
    "4.  Даны 3 группы  учеников плавания.\n",
    "\n",
    "В 1 группе время на дистанцию 50 м составляют:\n",
    "\n",
    "56, 60, 62, 55, 71, 67, 59, 58, 64, 67\n",
    "\n",
    "Вторая группа : 57, 58, 69, 48, 72, 70, 68, 71, 50, 53\n",
    "\n",
    "Третья группа: 57, 67, 49, 48, 47, 55, 66, 51, 54\n",
    "\n",
    "Проверить, есть ли различия между группами"
   ]
  },
  {
   "cell_type": "code",
   "execution_count": 4,
   "metadata": {},
   "outputs": [
    {
     "data": {
      "text/plain": [
       "KruskalResult(statistic=5.465564058257224, pvalue=0.06503809985904942)"
      ]
     },
     "execution_count": 4,
     "metadata": {},
     "output_type": "execute_result"
    }
   ],
   "source": [
    "a = ([56, 60, 62, 55, 71, 67, 59, 58, 64, 67])\n",
    "b = ([57, 58, 69, 48, 72, 70, 68, 71, 50, 53])\n",
    "c = ([57, 67, 49, 48, 47, 55, 66, 51, 54])\n",
    "stats.kruskal(a, b, c)"
   ]
  },
  {
   "attachments": {},
   "cell_type": "markdown",
   "metadata": {},
   "source": [
    "pvalue = 0.065 > a = 0.05. Статистических различий нет."
   ]
  },
  {
   "attachments": {},
   "cell_type": "markdown",
   "metadata": {},
   "source": [
    "5. Заявляется, что партия изготавливается со средним арифметическим 2,5 см. Проверить данную гипотезу, если известно, что размеры изделий подчинены нормальному закону распределения. Объем выборки 10, уровень статистической значимости 5%\n",
    "\n",
    "2.51, 2.35, 2.74, 2.56, 2.40, 2.36, 2.65, 2.7, 2.67, 2.34"
   ]
  },
  {
   "cell_type": "code",
   "execution_count": 5,
   "metadata": {},
   "outputs": [
    {
     "name": "stdout",
     "output_type": "stream",
     "text": [
      "Гипотеза не отвергается\n"
     ]
    }
   ],
   "source": [
    "import scipy.stats as stats\n",
    "\n",
    "# Заданный уровень статистической значимости\n",
    "alpha = 0.05\n",
    "\n",
    "# Выборочное среднее\n",
    "x_bar = sum([2.51, 2.35, 2.74, 2.56, 2.40, 2.36, 2.65, 2.7, 2.67, 2.34]) / 10\n",
    "\n",
    "# Стандартное отклонение\n",
    "s = ((2.51 - x_bar)**2 + (2.35 - x_bar)**2 + (2.74 - x_bar)**2 + (2.56 - x_bar)**2 + (2.40 - x_bar)**2 + (2.36 - x_bar)**2 + (2.65 - x_bar)**2 + (2.7 - x_bar)**2 + (2.67 - x_bar)**2 + (2.34 - x_bar)**2) / 9\n",
    "s = s**0.5\n",
    "\n",
    "# Количество степеней свободы\n",
    "df = 9\n",
    "\n",
    "# Вычисление t-статистики\n",
    "t = (x_bar - 2.5) / (s / (10**0.5))\n",
    "\n",
    "# Вычисление критической t-статистики\n",
    "t_critical = stats.t.ppf(1 - alpha, df)\n",
    "\n",
    "# Проверка гипотезы\n",
    "if t < -t_critical or t > t_critical:\n",
    "    print(\"Гипотеза отвергается\")\n",
    "else:\n",
    "    print(\"Гипотеза не отвергается\")"
   ]
  },
  {
   "attachments": {},
   "cell_type": "markdown",
   "metadata": {},
   "source": [
    "Заявление, что партия изготавливается со средним арифметическим 2,5 см, является истинным"
   ]
  }
 ],
 "metadata": {
  "kernelspec": {
   "display_name": "Python 3",
   "language": "python",
   "name": "python3"
  },
  "language_info": {
   "codemirror_mode": {
    "name": "ipython",
    "version": 3
   },
   "file_extension": ".py",
   "mimetype": "text/x-python",
   "name": "python",
   "nbconvert_exporter": "python",
   "pygments_lexer": "ipython3",
   "version": "3.10.10"
  },
  "orig_nbformat": 4,
  "vscode": {
   "interpreter": {
    "hash": "ab330c63be1774c7d4efd28485dada9f7c6eb3392ec4de9472ccb4da1daed7d7"
   }
  }
 },
 "nbformat": 4,
 "nbformat_minor": 2
}
